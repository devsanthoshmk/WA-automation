{
 "cells": [
  {
   "cell_type": "code",
   "execution_count": 1,
   "metadata": {},
   "outputs": [],
   "source": [
    "from playwright.sync_api import sync_playwright"
   ]
  },
  {
   "cell_type": "code",
   "execution_count": null,
   "metadata": {},
   "outputs": [],
   "source": [
    "user_data_dir = \"C:\\Users\\Navaneetha Krishnan\\AppData\\Local\\Google\\Chrome\\User Data\"\n",
    "context = p.chromium.launch_persistent_context(\n",
    "    user_data_dir=user_data_dir,  # specify your user data directory\n",
    "    headless=False,\n",
    "    channel=\"chrome\"\n",
    ")\n",
    "page = context.new_page()\n",
    "page.goto(\"\")\n",
    "\n",
    "# Optionally, print the page title or perform further actions.\n",
    "print(\"Page title:\", page.title())\n",
    "\n",
    "# Keep the browser open until you press Enter.\n",
    "input(\"Press Enter to close the browser...\")\n"
   ]
  }
 ],
 "metadata": {
  "kernelspec": {
   "display_name": "Python 3",
   "language": "python",
   "name": "python3"
  },
  "language_info": {
   "codemirror_mode": {
    "name": "ipython",
    "version": 3
   },
   "file_extension": ".py",
   "mimetype": "text/x-python",
   "name": "python",
   "nbconvert_exporter": "python",
   "pygments_lexer": "ipython3",
   "version": "3.13.1"
  }
 },
 "nbformat": 4,
 "nbformat_minor": 2
}
